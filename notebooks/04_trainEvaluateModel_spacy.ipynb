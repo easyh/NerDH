{
 "cells": [
  {
   "cell_type": "markdown",
   "metadata": {},
   "source": [
    "## 4. Jupiter Notebook zum NerDH Tutorial\n",
    "\n",
    "\n",
    "[Zurück zum Web-Tutorial](https://easyh.github.io/NerDH/tut/)"
   ]
  },
  {
   "cell_type": "markdown",
   "metadata": {},
   "source": [
    "### 4.1 Modell trainieren\n",
    "\n",
    "Um das Modell zu trainieren, brauchen wir unsere Trainings- und Validierungsdaten sowie die `config.cfg` Datei. \n",
    "\n",
    "Im Github-Repository im Ordner notebooks befindet sich die `base_config.cfg`-Datei, die mit folgendem Befehl in die korrekt formatierte `config.cfg`-Datei umgewandelt werden kann. \n"
   ]
  },
  {
   "cell_type": "code",
   "execution_count": null,
   "metadata": {},
   "outputs": [],
   "source": [
    "!python -m spacy init fill-config ./base_config.cfg ./config.cfg"
   ]
  },
  {
   "cell_type": "markdown",
   "metadata": {},
   "source": [
    "Jetzt müssen wir nur den folgenden Befehl ausführen, etwas warten und schon haben wir ein trainiertes Modell.  Hinter `paths.train` setzen wir den Pfad zu unseren Trainingsdaten und hinter `paths.dev` unsere Valuierungsdaten"
   ]
  },
  {
   "cell_type": "code",
   "execution_count": null,
   "metadata": {},
   "outputs": [],
   "source": [
    "!python -m spacy train config.cfg --output ./output --paths.train ./data/datensets/trainData.spacy --paths.dev ./data/datensets/valuationData.spacy"
   ]
  },
  {
   "cell_type": "markdown",
   "metadata": {},
   "source": [
    "In unserem `output`-Ordner befinden sich nun zwei Unterordner: `model-best`und `model-last`. Beide dieser Modelle können jetzt in der `spacy.load()` Funktion eingelesen und ausprobiert werden. Hier wird dann einfach der Pfad angegeben, wo das Modell liegt. "
   ]
  },
  {
   "cell_type": "markdown",
   "metadata": {},
   "source": [
    "---\n",
    "\n",
    "### 4.2 Modell als Python Package verpacken\n",
    "\n",
    "Es gibt von `spaCy` die Möglichkeit ein Modell in ein Python Package zu packen, dass dann wie jedes andere Package mit `pip install` installiert werden kann. \n",
    "\n",
    "Dafür müssen wir uns einmal in das Innere unseres Modells klicken und in der `meta.json`-Datei noch kleine Änderungen vornehmen.  Bei `name` vergeben wir dem Modell einen Namen, mit dem wir es laden möchten. Zusätzlich geben wir noch eine `version` an: Da es unser erstes Modell ist setzen wir die Version auf `0.0.1`. Natürlich können wir hier auch noch mehr Informationen wie z.B. `description`, `author` oder `email`angeben. \n",
    "\n",
    "Dann erstellen wir einen Ordner `package`, hier wird unser verpacktes Modell gespeichert, und geben folgenden Terminalbefehl ein: "
   ]
  },
  {
   "cell_type": "code",
   "execution_count": null,
   "metadata": {},
   "outputs": [],
   "source": [
    "!python -m spacy package ./output/model-best ./package --build wheel"
   ]
  },
  {
   "cell_type": "markdown",
   "metadata": {},
   "source": [
    "Lokal können wir unser Modell jetzt einfach wie folgt installieren. Wir müssen uns hierfür allerdings im Verzeichnis `dist` befinden oder dorthin navigieren: "
   ]
  },
  {
   "cell_type": "code",
   "execution_count": null,
   "metadata": {},
   "outputs": [],
   "source": [
    "!pip install package/de_fnhd_nerdh-0.0.1/dist/de_fnhd_nerdh-0.0.1-py3-none-any.whl"
   ]
  },
  {
   "cell_type": "markdown",
   "metadata": {},
   "source": [
    " Mithilfe von [`spacy-huggingface-hub`](https://github.com/explosion/spacy-huggingface-hub) können wir unser verpacktes Modell veröffentlichen und anderen Usern anbieten. Dazu müssen wir uns vorher einen Account auf [huggingface.co](https://huggingface.co/) erstellen und das Package installieren. "
   ]
  },
  {
   "cell_type": "code",
   "execution_count": null,
   "metadata": {},
   "outputs": [],
   "source": [
    "!pip install spacy-huggingface-hub"
   ]
  },
  {
   "cell_type": "markdown",
   "metadata": {},
   "source": [
    "Jetzt können wir uns über das Terminal in [huggingface.co](https://huggingface.co/) einloggen, damit unser Package unserem Profil zugeordnet wird. Hier werden wir nach einem Token gefragt, den wir [hier](https://huggingface.co/settings/tokens) abrufen können. "
   ]
  },
  {
   "cell_type": "code",
   "execution_count": null,
   "metadata": {},
   "outputs": [],
   "source": [
    "!huggingface-cli login"
   ]
  },
  {
   "cell_type": "markdown",
   "metadata": {},
   "source": [
    " Mit folgendem Befehl pushen wir unser Projekt auf [huggingface.co](https://huggingface.co/). "
   ]
  },
  {
   "cell_type": "code",
   "execution_count": null,
   "metadata": {},
   "outputs": [],
   "source": [
    "!python -m spacy huggingface-hub push package/de_fnhd_nerdh-0.0.1/dist/de_fnhd_nerdh-0.0.1-py3-none-any.whl"
   ]
  },
  {
   "cell_type": "markdown",
   "metadata": {},
   "source": [
    "Der Befehl wird dann zwei Dinge ausgeben: \n",
    "        \n",
    "        - wo das Repository auf [huggingface.co](https://huggingface.co/) gefunden wird \n",
    "        - Link, mit welchem das Modell installiert werden kann"
   ]
  },
  {
   "cell_type": "markdown",
   "metadata": {},
   "source": [
    "---\n",
    "\n",
    "### 4.3 Modell evaluieren\n",
    "\n",
    "Der nächste logische Schritt ist jetzt natürlich die Evaluation unseres Modells. Hierfür benötigen wir unsere Testdaten. Das Modell wird dann anhand von **F-Score**, **Precision** und **Recall** bewertet. `spaCy` hat hierfür einen einfachen Terminalbefehl."
   ]
  },
  {
   "cell_type": "code",
   "execution_count": null,
   "metadata": {},
   "outputs": [],
   "source": [
    "!python -m spacy evaluate de_fnhd_nerdh ../data/datensets/testData.spacy"
   ]
  }
 ],
 "metadata": {
  "interpreter": {
   "hash": "40d3a090f54c6569ab1632332b64b2c03c39dcf918b08424e98f38b5ae0af88f"
  },
  "kernelspec": {
   "display_name": "Python 3.8.3 64-bit ('base': conda)",
   "language": "python",
   "name": "python3"
  },
  "language_info": {
   "codemirror_mode": {
    "name": "ipython",
    "version": 3
   },
   "file_extension": ".py",
   "mimetype": "text/x-python",
   "name": "python",
   "nbconvert_exporter": "python",
   "pygments_lexer": "ipython3",
   "version": "3.8.3"
  },
  "orig_nbformat": 4
 },
 "nbformat": 4,
 "nbformat_minor": 2
}
